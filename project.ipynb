{
 "cells": [
  {
   "cell_type": "markdown",
   "metadata": {},
   "source": [
    "# Final project guidelines\n",
    "\n",
    "**Note:** Use these guidelines if and only if you are pursuing a **final project of your own design**. For those taking the final exam instead of the project, see the (separate) final exam notebook.\n",
    "\n",
    "## Guidelines\n",
    "\n",
    "These guidelines are intended for **undergraduates enrolled in INFO 3350**. If you are a graduate student enrolled in INFO 6350, you're welcome to consult the information below, but you have wider latitude to design and develop your project in line with your research goals.\n",
    "\n",
    "### The task\n",
    "\n",
    "Your task is to: identify an interesting problem connected to the humanities or humanistic social sciences that's addressable with the help of computational methods, formulate a hypothesis about it, devise an experiment or experiments to test your hypothesis, present the results of your investigations, and discuss your findings.\n",
    "\n",
    "These tasks essentially replicate the process of writing an academic paper. You can think of your project as a paper in miniature.\n",
    "\n",
    "You are free to present each of these tasks as you see fit. You should use narrative text (that is, your own writing in a markdown cell), citations of others' work, numerical results, tables of data, and static and/or interactive visualizations as appropriate. Total length is flexible and depends on the number of people involved in the work, as well as the specific balance you strike between the ambition of your question and the sophistication of your methods. But be aware that numbers never, ever speak for themselves. Quantitative results presented without substantial discussion will not earn high marks. \n",
    "\n",
    "Your project should reflect, at minimum, ten **or more** hours of work by each participant, though you will be graded on the quality of your work, not the amount of time it took you to produce it. Most high-quality projects represent twenty or more hours of work by each member.\n",
    "\n",
    "#### Pick an important and interesting problem!\n",
    "\n",
    "No amount of technical sophistication will overcome a fundamentally uninteresting problem at the core of your work. You have seen many pieces of successful computational humanities research over the course of the semester. You might use these as a guide to the kinds of problems that interest scholars in a range of humanities disciplines. You may also want to spend some time in the library, reading recent books and articles in the professional literature. **Problem selection and motivation are integral parts of the project.** Do not neglect them.\n",
    "\n",
    "### Format\n",
    "\n",
    "You should submit your project as a Jupyter notebook, along with all data necessary to reproduce your analysis. If your dataset is too large to share easily, let us know in advance so that we can find a workaround. If you have a reason to prefer a presentation format other than a notebook, likewise let us know so that we can discuss the options.\n",
    "\n",
    "Your report should have four basic sections (provided in cells below for ease of reference):\n",
    "\n",
    "1. **Introduction and hypothesis.** What problem are you working on? Why is it interesting and important? What have other people said about it? What do you expect to find?\n",
    "2. **Corpus, data, and methods.** What data have you used? Where did it come from? How did you collect it? What are its limitations or omissions? What major methods will you use to analyze it? Why are those methods the appropriate ones?\n",
    "3. **Results.** What did you find? How did you find it? How should we read your figures? Be sure to include confidence intervals or other measures of statistical significance or uncetainty where appropriate.\n",
    "4. **Discussion and conclusions.** What does it all mean? Do your results support your hypothesis? Why or why not? What are the limitations of your study and how might those limitations be addressed in future work?\n",
    "\n",
    "Within each of those sections, you may use as many code and markdown cells as you like. You may, of course, address additional questions or issues not listed above.\n",
    "\n",
    "All code used in the project should be present in the notebook (except for widely-available libraries that you import), but **be sure that we can read and understand your report in full without rerunning the code**. Be sure, too, to explain what you're doing along the way, both by describing your data and methods and by writing clean, well commented code.\n",
    "\n",
    "### Grading\n",
    "\n",
    "This project takes the place of the take-home final exam for the course. It is worth 35% of your overall grade. You will be graded on the quality and ambition of each aspect of the project. No single component is more important than the others.\n",
    "\n",
    "### Practical details\n",
    "\n",
    "* The project is due at **noon on Saturday, December 9** via upload to CMS of a single zip file containing your fully executed Jupyter notebook and all associated data.\n",
    "* You may work alone or in a group of up to three total members.\n",
    "    * If you work in a group, be sure to list the names of the group members.\n",
    "    * For groups, create your group on CMS and submit one notebook for the entire group. **Each group should also submit a statement of responsibility** that describes in general terms who performed which parts of the project.\n",
    "* You may post questions on Ed, but should do so privately (visible to course staff only).\n",
    "* Interactive visualizations do not always work when embedded in shared notebooks. If you plan to use interactives, you may need to host them elsewhere and link to them.\n",
    "\n",
    "---"
   ]
  },
  {
   "attachments": {},
   "cell_type": "markdown",
   "metadata": {},
   "source": [
    "## Your info\n",
    "* NetID(s): sc2548, jsc342\n",
    "* Name(s): Stephy Chen, Joyce Chen\n",
    "---"
   ]
  },
  {
   "cell_type": "markdown",
   "metadata": {},
   "source": [
    "## Brainstorm Ideas for Project ##\n",
    "\n",
    "1. Examining lyrics of songs from varying genres, artists, and etc. (possibly taken from billboard, top 100 charts, etc) to see whether they reflect popular trends during that period of time either based on the current events occuring (may include poltically or socially motivated events)  --\n",
    "\n",
    "2. Examining how authors (perhaps classical authors from a certain range of time/genre) used adjectives/certain connotative words/phrases to describe gender? (Could we predict information about the author through these used phrases)\n",
    "\n",
    "3. Examining song lyrics from varying genres/artists to determine how they describe gender. Seeing whether the language used or connotation of their words reflect a trend in the type of artists that sang or wrote the lyrics.\n",
    "\n",
    "4. Examining media and news outlets diction in describing current events relating to political partisanship (whether their words indicate the general party they're leaning towards)\n",
    "   - Taking at whether the words used to describe certain events are more comparably positive/negative in connotation\n",
    "   - Seeing whether there is a distinction between the type of words used to describe current events by left/right wing\n",
    "   - implications: \n",
    "     - Being aware of echo chambers \n",
    "     - Recommending news outlets/media that are more neutral based\n",
    "     - Indicating which news outlets/media are more biased towards a side\n",
    "     - Is there a correlation with the recent political polarization \n",
    "https://www.mediacloud.org/media-cloud-directory \n",
    "\n",
    "5. Examine reddit and discussion forums to understand incel culture/crimes against women descriptions to see \n",
    "\n",
    "\n",
    "FINAL DECISION: CHOICE 4 \n",
    "\n",
    "---\n"
   ]
  },
  {
   "attachments": {},
   "cell_type": "markdown",
   "metadata": {},
   "source": [
    "## 1. Introduction\n",
    "\n",
    "In an era marked by unprecedented political polarization, the focus on media and its role in shaping public perception has never been more critical. This data project delves into the intricate web of language, word choice, and stylistic choices employed by various news outlets when reporting on current events, with a keen emphasis on political partisanship.\n",
    "\n",
    "The importance of this investigation lies in its potential to uncover implicit biases within media narratives and disseminated information. Firstly, we scrutinize the diction and connotations used to describe events among news outlets, seeking to discern patterns that determine whether their choice of words or coverage of events indicates a leaning towards a particular political party. Simultaneously, we conduct a comparative analysis of language used by different media outlets (across the political spectrum) when covering the same events, unraveling distinct narratives crafted by left-wing and right-wing sources to evaluate the implications of these differing perspectives. Secondly, the exploration extends beyond mere observation, delving into whether certain events are portrayed with a comparably positive or negative bias, contributing to the broader discourse on media objectivity.\n",
    "\n",
    "The significance of this research is far-reaching and transcends academic curiosity. It holds profound implications for societal awareness and media literacy. By making citizens aware of potential echo chambers in media consumption, the project aims to empower individuals to critically evaluate the information they receive. Beyond mere awareness, our project aspires to offer recommendations for news outlets and media that demonstrate a more neutral stance, allowing consumers to make informed choices about their news sources.\n",
    "\n",
    "Existing literature reviews have already shed light on the political slant present in many media sources (the picture below from AllSides is widely used when looking at the media outlets). This project builds upon this foundation, seeking not only to confirm these biases but also to provide a nuanced understanding of the language that perpetuates them. As political polarization continues to shape the socio-political landscape, this research contributes to the ongoing dialogue by exploring the correlation between media language and the evolving dynamics of political partisanship.\n",
    "\n",
    "![image](pictures/all-sides.jpeg)\n",
    "\n",
    "https://www.allsides.com/media-bias/media-bias-chart \n",
    "\n",
    "https://www.pewresearch.org/journalism/2014/10/21/section-1-media-sources-distinct-favorites-emerge-on-the-left-and-right/\n"
   ]
  },
  {
   "attachments": {},
   "cell_type": "markdown",
   "metadata": {},
   "source": [
    "## 2. Research Question and Hypothesis\n",
    "\n",
    "### Hypothesis\n",
    "\n",
    "We hypothesize that there is a correlation between the language and style employed by news outlets in reporting current events and political partisanship. \n",
    "\n",
    "(if specificity is needed, here is a version: We hypothesize that there is a positive correlation between the language and style employed by news outlets in reporting current events and political partisanship. Specifically, we anticipate that news outlets leaning towards a particular political party will use language and style that align with the ideologies of that party.)\n",
    "\n",
    "If would be better for us to focus on a specific topic. \n",
    "Single issue (couple of hundred of articles) about two outlets. \n",
    "\n",
    "### Research Question \n",
    "\n",
    "Do news outlets' language and style in reporting current events correlate with political partisanship? How much do these language choices link to the perceived positivity or negativity of specific events?\n",
    "\n",
    "### Selected News Outlets \n",
    "\n",
    "Out of all these outlets seen in the AllSides graph, we will choose 3 from each category to analyze the articles published. (Should we have a separate section where we specifically pick articles from different sources that are convering the same events or is that included within the 3 that we choose from each category?)\n",
    "\n",
    "#### Left \n",
    "- CNN \n",
    "- Buzzfeed News \n",
    "- HuffPost \n",
    "- MSNBC \n",
    "- The New Yorker \n",
    "\n",
    "#### Left-Leaning \n",
    "- Bloomberg \n",
    "- CBS \n",
    "- NBC \n",
    "- New York Times News\n",
    "- Washington Post \n",
    "- USA Today \n",
    "\n",
    "#### Center\n",
    "- Wall Street Journal News \n",
    "- Reuters \n",
    "- Newsweek \n",
    "- BBC \n",
    "- Reuters \n",
    "- The Hill \n",
    "\n",
    "#### Right-Leaning \n",
    "- Epoch Times \n",
    "- The Washington Times \n",
    "- The Post Millennial \n",
    "- The American Conservative \n",
    "- The Dispatch \n",
    "\n",
    "#### Right\n",
    "- Daily Mail \n",
    "- Daily Wire \n",
    "- Fox News \n",
    "- The Federalist \n",
    "- The American Spectator\n",
    "\n",
    "\n",
    "\n",
    "OFFICIAL LIST\n",
    "\n",
    "#### Left \n",
    "- CNN \n",
    "\n",
    "#### Left-Leaning \n",
    "- New York Times News\n",
    "\n",
    "#### Center\n",
    "- Wall Street Journal News (Optional)\n",
    "- BBC \n",
    "\n",
    "#### Right-Leaning \n",
    "- The New York Post News\n",
    "\n",
    "#### Right \n",
    "- Fox News \n",
    "\n",
    "\n"
   ]
  },
  {
   "cell_type": "markdown",
   "metadata": {},
   "source": [
    "## 2. Corpus & Data Cleaning\n",
    "\n",
    "### Corpus Creation: DEADLINE (12/05)"
   ]
  },
  {
   "cell_type": "code",
   "execution_count": 52,
   "metadata": {},
   "outputs": [],
   "source": [
    "import requests\n",
    "from bs4 import BeautifulSoup\n",
    "import re\n",
    "import pandas as pd\n",
    "\n"
   ]
  },
  {
   "cell_type": "markdown",
   "metadata": {},
   "source": [
    "1. Scrape a ridiculous amount of articles from news outlets\n",
    "\n",
    "2. Read relevant papers (on abortion and the work that has been done to analyze thus far) \n",
    "http://languagelog.ldc.upenn.edu/myl/Monroe.pdf\n",
    "https://www.pewresearch.org/religion/fact-sheet/public-opinion-on-abortion/#CHAPTER-h-views-on-abortion-2021-a-detailed-look \n",
    "\n",
    "3. Standard of Comparison Creation Part I: Examine the partisan of congressional speeches to create the spectrum of words that indicate whether certain phrasing belongs to a certain party\n",
    "https://data.stanford.edu/congress_text (scroll down on page to find multiple zip files)\n",
    "\n",
    "4. Standard of Comparison Creation Part II: Examine presidential debates regarding abortion and use that as a standard to characterize the political stance on abortion (whether they use or have positive/negative views) \n",
    "https://www.debates.org/voter-education/debate-transcripts/   \n",
    "\n",
    "- Finding similarity of the phrasings used between the standards created (backed up by scholarly articles) with the phrasings commonly found within news articles\n",
    "\n",
    "  "
   ]
  },
  {
   "attachments": {},
   "cell_type": "markdown",
   "metadata": {},
   "source": [
    "## Data Scraping Presidential Elections"
   ]
  },
  {
   "attachments": {},
   "cell_type": "markdown",
   "metadata": {},
   "source": [
    "Let's scrape the raw text from presidential elections that mention abortions. \n"
   ]
  },
  {
   "cell_type": "code",
   "execution_count": 35,
   "metadata": {},
   "outputs": [
    {
     "name": "stdout",
     "output_type": "stream",
     "text": [
      "Requirement already satisfied: requests in /Users/stephy/opt/anaconda3/envs/info2950/lib/python3.10/site-packages (2.31.0)\n",
      "Requirement already satisfied: charset-normalizer<4,>=2 in /Users/stephy/opt/anaconda3/envs/info2950/lib/python3.10/site-packages (from requests) (2.0.4)\n",
      "Requirement already satisfied: idna<4,>=2.5 in /Users/stephy/opt/anaconda3/envs/info2950/lib/python3.10/site-packages (from requests) (3.4)\n",
      "Requirement already satisfied: urllib3<3,>=1.21.1 in /Users/stephy/opt/anaconda3/envs/info2950/lib/python3.10/site-packages (from requests) (1.26.16)\n",
      "Requirement already satisfied: certifi>=2017.4.17 in /Users/stephy/opt/anaconda3/envs/info2950/lib/python3.10/site-packages (from requests) (2023.7.22)\n"
     ]
    }
   ],
   "source": [
    "##install requests\n",
    "\n",
    "!pip install requests"
   ]
  },
  {
   "cell_type": "code",
   "execution_count": 117,
   "metadata": {},
   "outputs": [
    {
     "name": "stdout",
     "output_type": "stream",
     "text": [
      "     name  year dem/rep left/right  \\\n",
      "0   PENCE  2020     rep      right   \n",
      "1   PENCE  2020     rep      right   \n",
      "2   PENCE  2020     rep      right   \n",
      "3  HARRIS  2020     dem       left   \n",
      "4   PENCE  2020     rep      right   \n",
      "\n",
      "                                             content  \n",
      "0   Well thank you for the question, but I’ll use...  \n",
      "1   My hope is that when the hearing takes place,...  \n",
      "2   – treated respectfully and voted and confirme...  \n",
      "3   Thank you, Susan. First of all, Joe Biden and...  \n",
      "4   Well, thank you, Susan. Let me just say, addr...  \n"
     ]
    }
   ],
   "source": [
    "#Scraped Data for Vice Presidential Election 2020 (Kamala Harris and Mike Pence)\n",
    "\n",
    "URL = \"https://debates.org/voter-education/debate-transcripts/vice-presidential-debate-at-the-university-of-utah-in-salt-lake-city-utah/\" \n",
    "page = requests.get(URL)\n",
    "\n",
    "soup = BeautifulSoup(page.content, \"html.parser\")\n",
    "all_paragraphs = soup.find_all('p')\n",
    "\n",
    "# Find the indices of paragraphs containing the word \"abortion\"\n",
    "abortion_indices = [index for index, p in enumerate(all_paragraphs) if 'abortion' in p.get_text().lower()]\n",
    "\n",
    "if abortion_indices:\n",
    "    # Extract paragraphs between the first and last mention of \"abortion\"\n",
    "    start_index = abortion_indices[0]\n",
    "    end_index = abortion_indices[-1]\n",
    "    \n",
    "    paragraphs_between_abortion = all_paragraphs[start_index:end_index + 1]\n",
    "\n",
    "    # Create a DataFrame with columns for 'name', 'dem/rep', and 'content'\n",
    "    data = {'name': [], 'year': [], 'dem/rep': [], 'left/right': [], 'content': []}\n",
    "    count_pence = 0\n",
    "\n",
    "    for paragraph in paragraphs_between_abortion:\n",
    "        count_pence += paragraph.get_text().count('PENCE:')\n",
    "        \n",
    "        if count_pence == 4:\n",
    "            # Modify the paragraph in-place if it's the fourth instance of 'PENCE:'\n",
    "            paragraph.string = re.sub(r'^PENCE:', 'HARRIS:', paragraph.get_text())\n",
    "    \n",
    "        # Skip paragraphs that start with \"PAGE:\"\n",
    "        if not paragraph.get_text().startswith(\"PAGE:\"):\n",
    "            # Determine 'name' and 'dem/rep' based on the speaker\n",
    "            if 'PENCE:' in paragraph.get_text():\n",
    "                data['name'].append('PENCE')\n",
    "                data['year'].append(2020)\n",
    "                data['dem/rep'].append('rep')\n",
    "                data['left/right'].append('right')\n",
    "            else:\n",
    "                data['name'].append('HARRIS')\n",
    "                data['year'].append(2020)\n",
    "                data['dem/rep'].append('dem')\n",
    "                data['left/right'].append('left')\n",
    "            \n",
    "            data['content'].append(re.sub(r'^PENCE:|HARRIS:', '', paragraph.get_text()))\n",
    "\n",
    "    prez_df_2020 = pd.DataFrame(data)\n",
    "\n",
    "    # Print the DataFrame\n",
    "    print(prez_df_2020)\n",
    "        "
   ]
  },
  {
   "cell_type": "code",
   "execution_count": 118,
   "metadata": {},
   "outputs": [
    {
     "name": "stdout",
     "output_type": "stream",
     "text": [
      "     name  year dem/rep left/right  \\\n",
      "0   PENCE  2016     rep      right   \n",
      "1   PENCE  2016     rep      right   \n",
      "2   PENCE  2016     rep      right   \n",
      "3   PENCE  2016     rep      right   \n",
      "4   PENCE  2016     rep      right   \n",
      "5   KAINE  2016     dem       left   \n",
      "6   KAINE  2016     dem       left   \n",
      "7   KAINE  2016     dem       left   \n",
      "8   KAINE  2016     dem       left   \n",
      "9   KAINE  2016     dem       left   \n",
      "10  KAINE  2016     dem       left   \n",
      "11  PENCE  2016     rep      right   \n",
      "12  KAINE  2016     dem       left   \n",
      "13  PENCE  2016     rep      right   \n",
      "14  KAINE  2016     dem       left   \n",
      "15  PENCE  2016     rep      right   \n",
      "16  KAINE  2016     dem       left   \n",
      "17  PENCE  2016     rep      right   \n",
      "18  KAINE  2016     dem       left   \n",
      "19  PENCE  2016     rep      right   \n",
      "20  KAINE  2016     dem       left   \n",
      "21  PENCE  2016     rep      right   \n",
      "22  KAINE  2016     dem       left   \n",
      "23  PENCE  2016     rep      right   \n",
      "24  KAINE  2016     dem       left   \n",
      "25  PENCE  2016     rep      right   \n",
      "26  KAINE  2016     dem       left   \n",
      "27  PENCE  2016     rep      right   \n",
      "28  KAINE  2016     dem       left   \n",
      "29  PENCE  2016     rep      right   \n",
      "30  PENCE  2016     rep      right   \n",
      "31  PENCE  2016     rep      right   \n",
      "\n",
      "                                              content  \n",
      "0    But for me, I would tell you that for me the ...  \n",
      "1   The state of Indiana has also sought to make s...  \n",
      "2   But what I can’t understand is with Hillary Cl...  \n",
      "3   And I cannot — I can’t conscience about — abou...  \n",
      "4   So for me, my faith informs my life. I try and...  \n",
      "5    Elaine, this is a fundamental question, a fun...  \n",
      "6   But we really feel like you should live fully ...  \n",
      "7   So let’s talk about abortion and choice. Let’s...  \n",
      "8   And we don’t think that women should be punish...  \n",
      "9   Governor Pence wants to repeal Roe v. Wade. He...  \n",
      "10  I think you should live your moral values. But...  \n",
      "11   No, it’s really not. Donald Trump and I would...  \n",
      "12                Then why did Donald Trump say that?  \n",
      "13                               We just never would.  \n",
      "14                               Why did he say that?  \n",
      "15   Well, look, it’s — look, he’s not a polished ...  \n",
      "16   Well, I would admit that’s not a polished…[cr...  \n",
      "17   You know, things don’t always come out exactl...  \n",
      "18                                   Well, can I say…  \n",
      "19   But I’m telling you what the policy of our ad...  \n",
      "20   Great line from the — great line from the gos...  \n",
      "21                                              Yeah.  \n",
      "22   When Donald Trump says women should be punish...  \n",
      "23                                   I’m telling you…  \n",
      "24   … or John McCain is not a hero, he is showing...  \n",
      "25   Senator, you’ve whipped out that Mexican thin...  \n",
      "26                                 Can you defend it?  \n",
      "27   There are criminal aliens in this country, Ti...  \n",
      "28   You want to — you want to use a big broad bru...  \n",
      "29   He also said and many of them are good people...  \n",
      "30  But here’s — there is a choice, and it is a ch...  \n",
      "31  And I have appreciated the fact that you’ve su...  \n"
     ]
    }
   ],
   "source": [
    "#Scraped Data for Vice Presidential Election 2016 (Mike Pence and Tim Kaine)\n",
    "\n",
    "#October 4, 2016\n",
    "\n",
    "URL = \"https://www.debates.org/voter-education/debate-transcripts/october-4-2016-debate-transcript/\"\n",
    "page = requests.get(URL)\n",
    "\n",
    "soup = BeautifulSoup(page.content, \"html.parser\")\n",
    "all_paragraphs = soup.find_all('p')\n",
    "\n",
    "# Find the index of the paragraph with the last mention of \"abortion\"\n",
    "last_abortion_index = max([index for index, p in enumerate(all_paragraphs) if 'abortion' in p.get_text().lower()], default=0)\n",
    "\n",
    "# Find the index of the paragraph starting with \"PENCE: But for me\"\n",
    "pence_index = next((i for i, p in enumerate(all_paragraphs) if p.get_text().startswith(\"PENCE: But for me\")), None)\n",
    "\n",
    "# Extract paragraphs between \"PENCE: But for me\" and the last mention of \"abortion\"\n",
    "paragraphs_selected = all_paragraphs[pence_index:last_abortion_index + 1]\n",
    "\n",
    "# Create a DataFrame with columns for 'name', 'dem/rep', 'left/right', and 'content'\n",
    "data = {'name': [], 'year': [], 'dem/rep': [], 'left/right': [], 'content': []}\n",
    "\n",
    "current_speaker = None\n",
    "\n",
    "for paragraph in paragraphs_selected:\n",
    "    text = paragraph.get_text()\n",
    "    \n",
    "    # Skip paragraphs that start with \"QUIJANO:\"\n",
    "    if text.startswith(\"QUIJANO:\"):\n",
    "        continue\n",
    "    \n",
    "    # Determine 'name' and 'dem/rep' based on the speaker\n",
    "    if 'PENCE:' in text:\n",
    "        current_speaker = 'PENCE'\n",
    "        dem_rep = 'rep'\n",
    "    elif 'KAINE:' in text:\n",
    "        current_speaker = 'KAINE'\n",
    "        dem_rep = 'dem'\n",
    "    \n",
    "    # Determine 'left/right' based on the speaker\n",
    "    if 'PENCE:' in text:\n",
    "        left_right = 'right'\n",
    "    elif 'KAINE:' in text:\n",
    "        left_right = 'left'\n",
    "    \n",
    "    # Append data to the dictionary\n",
    "    data['name'].append(current_speaker)\n",
    "    data['year'].append(2016)\n",
    "    data['dem/rep'].append(dem_rep)\n",
    "    data['left/right'].append(left_right)\n",
    "    data['content'].append(re.sub(r'^PENCE:|KAINE:', '', paragraph.get_text()))\n",
    "    \n",
    "# Create a DataFrame from the dictionary\n",
    "prez_df_2016 = pd.DataFrame(data)\n",
    "\n",
    "# Print the DataFrame\n",
    "print(prez_df_2016)\n"
   ]
  },
  {
   "cell_type": "code",
   "execution_count": 18,
   "metadata": {},
   "outputs": [
    {
     "name": "stdout",
     "output_type": "stream",
     "text": [
      "WALLACE: Well, let’s pick up on another issue which divides you and the justices that whoever ends up winning this election appoints could have a dramatic effect there, and that’s the issue of abortion.\n",
      "WALLACE: Mr. Trump, you’re pro-life. But I want to ask you specifically: Do you want the court, including the justices that you will name, to overturn Roe v. Wade, which includes—in fact, states—a woman’s right to abortion?\n",
      "CLINTON: And we have come too far to have that turned back now. And, indeed, he said women should be punished, that there should be some form of punishment for women who obtain abortions. And I could just not be more opposed to that kind of thinking.\n",
      "WALLACE: I’m going to give you a chance to respond, but I want to ask you, Secretary Clinton, I want to explore how far you believe the right to abortion goes. You have been quoted as saying that the fetus has no constitutional rights. You also voted against a ban on late-term, partial-birth abortions. Why?\n",
      "CLINTON: Because Roe v. Wade very clearly sets out that there can be regulations on abortion so long as the life and the health of the mother are taken into account. And when I voted as a senator, I did not think that that was the case.\n",
      "WALLACE: Mr. Trump, your reaction? And particularly on this issue of late-term, partial-birth abortions.\n",
      "You know, I’ve had the great honor of traveling across the world on behalf of our country. I’ve been to countries where governments either forced women to have abortions, like they used to do in China, or forced women to bear children, like they used to do in Romania. And I can tell you: The government has no business in the decisions that women make with their families in accordance with their faith, with medical advice. And I will stand up for that right.\n",
      "<class 'str'>\n"
     ]
    }
   ],
   "source": [
    "#Scraped Data for Second Presidential Election 2016 (Hilary Clinton and Donald Trump) \n",
    "\n",
    "#October 19, 2016\n",
    "\n",
    "URL = \"https://www.debates.org/voter-education/debate-transcripts/october-19-2016-debate-transcript/\" \n",
    "page = requests.get(URL)\n",
    "\n",
    "soup = BeautifulSoup(page.content, \"html.parser\")\n",
    "paragraphs_with_abortion = [p.get_text() for p in soup.find_all('p') if 'abortion' in p.get_text().lower()]\n",
    "\n",
    "for paragraph in paragraphs_with_abortion:\n",
    "    pres_debate_2016_2 = paragraph\n",
    "    print(pres_debate_2016_2)\n",
    "\n",
    "print(type(pres_debate_2016_2)) #class is a string\n"
   ]
  },
  {
   "cell_type": "code",
   "execution_count": 21,
   "metadata": {},
   "outputs": [
    {
     "name": "stdout",
     "output_type": "stream",
     "text": [
      "RADDATZ: I want to move on, and I want to return home for these last few questions. This debate is, indeed, historic. We have two Catholic candidates, first time, on a stage such as this. And I would like to ask you both to tell me what role your religion has played in your own personal views on abortion.\n",
      "That’s why — those are the reasons why I’m pro-life. Now I understand this is a difficult issue, and I respect people who don’t agree with me on this, but the policy of a Romney administration will be to oppose abortions with the exceptions for rape, incest and life of the mother. What troubles me more is how this administration has handled all of these issues. Look at what they’re doing through Obamacare with respect to assaulting the religious liberties of this country. They’re infringing upon our first freedom, the freedom of religion, by infringing on Catholic charities, Catholic churches, Catholic hospitals.\n",
      "Our church should not have to sue our federal government to maintain their religious liberties. And with respect to abortion, the Democratic Party used to say they wanted it to be safe, legal and rare. Now they support it without restriction and with taxpayer funding. Taxpayer funding in Obamacare, taxpayer funding with foreign aid. The vice president himself went to China and said that he sympathized and wouldn’t second guess their one child policy of forced abortions and sterilizations. That to me is pretty extreme.\n",
      "BIDEN: My religion defines who I am, and I’ve been a practicing Catholic my whole life. And has particularly informed my social doctrine. The Catholic social doctrine talks about taking care of those who — who can’t take care of themselves, people who need help. With regard to — with regard to abortion, I accept my church’s position on abortion as a — what we call a (inaudible) doctrine. Life begins at conception in the church’s judgment. I accept it in my personal life.\n",
      "That is a fact. Now with regard to the way in which the — we differ, my friend says that he — well I guess he accepts Governor Romney’s position now, because in the past he has argued that there was — there’s rape and forcible rape. He’s argued that in the case of rape or incest, it was still — it would be a crime to engage in having an abortion. I just fundamentally disagree with my friend.\n",
      "RYAN: All I’m saying is, if you believe that life begins at conception, that, therefore, doesn’t change the definition of life. That’s a principle. The policy of a Romney administration is to oppose abortion with exceptions for rape, incest and life of the mother.\n",
      "RADDATZ: I want to go back to the abortion question here. If the Romney-Ryan ticket is elected, should those who believe that abortion should remain legal be worried?\n",
      "BIDEN: The court — the next president will get one or two Supreme Court nominees. That’s how close Roe v. Wade is. Just ask yourself, with Robert Bork being the chief adviser on the court for — for Mr. Romney, who do you think he’s likely to appoint? Do you think he’s likely to appoint someone like Scalia or someone else on the court far right that would outlaw (inaudible) — outlaw abortion? I suspect that would happen.\n",
      "<class 'str'>\n"
     ]
    }
   ],
   "source": [
    "#Scraped Data for Vice Presidential Election 2012 (Biden and Ryan)\n",
    "\n",
    "#October 11, 2012\n",
    "\n",
    "URL = \"https://www.debates.org/voter-education/debate-transcripts/october-11-2012-the-biden-romney-vice-presidential-debate/\" \n",
    "page = requests.get(URL)\n",
    "\n",
    "soup = BeautifulSoup(page.content, \"html.parser\")\n",
    "paragraphs_with_abortion = [p.get_text() for p in soup.find_all('p') if 'abortion' in p.get_text().lower()]\n",
    "\n",
    "for paragraph in paragraphs_with_abortion:\n",
    "    pres_debate_2012 = paragraph\n",
    "    print(pres_debate_2012)\n",
    "\n",
    "print(type(pres_debate_2012)) #class is a string\n"
   ]
  },
  {
   "cell_type": "code",
   "execution_count": 22,
   "metadata": {},
   "outputs": [
    {
     "name": "stdout",
     "output_type": "stream",
     "text": [
      "SCHIEFFER: But even if it was someone — even someone who had a history of being for abortion rights, you would consider them?\n",
      "Now I would not provide a litmus test. But I am somebody who believes that Roe versus Wade was rightly decided. I think that abortion is a very difficult issue and it is a moral issue and one that I think good people on both sides can disagree on.\n",
      "Senator Obama, as a member of the Illinois State Senate, voted in the Judiciary Committee against a law that would provide immediate medical attention to a child born of a failed abortion. He voted against that.\n",
      "Then there was another bill before the Senate Judiciary Committee in the state of Illinois not that long ago, where he voted against a ban on partial-birth abortion, one of the late-term abortion, a really — one of the bad procedures, a terrible. And then, on the floor of the Illinois State Senate, he voted present.\n",
      "I don’t know how you vote “present” on some of that. I don’t know how you align yourself with the extreme aspect of the pro- abortion movement in America. And that’s his record, and that’s a matter of his record.\n",
      "With respect to partial-birth abortion, I am completely supportive of a ban on late-term abortions, partial-birth or otherwise, as long as there’s an exception for the mother’s health and life, and this did not contain that exception.\n",
      "And I attempted, as many have in the past, of including that so that it is constitutional. And that was rejected, and that’s why I voted present, because I’m willing to support a ban on late-term abortions as long as we have that exception.\n",
      "The last point I want to make on the issue of abortion. This is an issue that — look, it divides us. And in some ways, it may be difficult to — to reconcile the two views.\n",
      "But there surely is some common ground when both those who believe in choice and those who are opposed to abortion can come together and say, “We should try to prevent unintended pregnancies by providing appropriate education to our youth, communicating that sexuality is sacred and that they should not be engaged in cavalier activity, and providing options for adoption, and helping single mothers if they want to choose to keep the baby.”\n",
      "Those are all things that we put in the Democratic platform for the first time this year, and I think that’s where we can find some common ground, because nobody’s pro-abortion. I think it’s always a tragic situation.\n",
      "MCCAIN: Just again, the example of the eloquence of Senator Obama. He’s health for the mother. You know, that’s been stretched by the pro-abortion movement in America to mean almost anything.\n",
      "That’s the extreme pro-abortion position, quote, “health.” But, look, Cindy and I are adoptive parents. We know what a treasure and joy it is to have an adopted child in our lives. We’ll do everything we can to improve adoption in this country.\n",
      "<class 'str'>\n"
     ]
    }
   ],
   "source": [
    "#Scraped Data for Presidential Election 2008 (Third McCain and Obama Debate)\n",
    "\n",
    "#October 15, 2008\n",
    "\n",
    "URL = \"https://www.debates.org/voter-education/debate-transcripts/october-15-2008-debate-transcript/\" \n",
    "page = requests.get(URL)\n",
    "\n",
    "soup = BeautifulSoup(page.content, \"html.parser\")\n",
    "paragraphs_with_abortion = [p.get_text() for p in soup.find_all('p') if 'abortion' in p.get_text().lower()]\n",
    "\n",
    "for paragraph in paragraphs_with_abortion:\n",
    "    pres_debate_2008 = paragraph\n",
    "    print(pres_debate_2008)\n",
    "\n",
    "print(type(pres_debate_2008)) #class is a string"
   ]
  },
  {
   "cell_type": "code",
   "execution_count": 23,
   "metadata": {},
   "outputs": [
    {
     "name": "stdout",
     "output_type": "stream",
     "text": [
      "The New York Times reports that some Catholic archbishops are telling their church members that it would be a sin to vote for a candidate like you because you support a woman’s right to choose an abortion and unlimited stem-cell research.\n",
      "BUSH: I think it’s important to promote a culture of life. I think a hospitable society is a society where every being counts and every person matters. I believe the ideal world is one in which every child is protected in law and welcomed to life. I understand there’s great differences on this issue of abortion, but I believe reasonable people can come together and put good law in place that will help reduce the number of abortions.\n",
      "Take, for example, the ban on partial birth abortion. It’s a brutal practice. People from both political parties came together in the halls of Congress and voted overwhelmingly to ban that practice. It made a lot of sense. My opponent, in that he’s out of the mainstream, voted against that law.\n",
      "What I’m saying is, is that as we promote life and promote a culture of life, surely there are ways we can work together to reduce the number of abortions: continue to promote adoption laws — it’s a great alternative to abortion — continue to fund and promote maternity group homes; I will continue to promote abstinence programs.\n",
      "The last debate, my opponent said his wife was involved with those programs. That’s great. I appreciate that very much. All of us ought to be involved with programs that provide a viable alternative to abortion.\n",
      "<class 'str'>\n"
     ]
    }
   ],
   "source": [
    "#Scraped Data for Presidential Election 2004 (Bush and Kerry)\n",
    "\n",
    "#October 13, 2004\n",
    "\n",
    "URL = \"https://www.debates.org/voter-education/debate-transcripts/october-13-2004-debate-transcript/\" \n",
    "page = requests.get(URL)\n",
    "\n",
    "soup = BeautifulSoup(page.content, \"html.parser\")\n",
    "paragraphs_with_abortion = [p.get_text() for p in soup.find_all('p') if 'abortion' in p.get_text().lower()]\n",
    "\n",
    "for paragraph in paragraphs_with_abortion:\n",
    "    pres_debate_2004_1 = paragraph\n",
    "    print(pres_debate_2004_1)\n",
    "\n",
    "print(type(pres_debate_2004_1)) #class is a string"
   ]
  },
  {
   "cell_type": "code",
   "execution_count": 24,
   "metadata": {},
   "outputs": [
    {
     "name": "stdout",
     "output_type": "stream",
     "text": [
      "We have 100,000 to 200,000 embryos that are frozen in nitrogen today from fertility clinics. These weren’t taken from abortion or something like that. They’re from a fertility clinic. And they’re either going to be destroyed or left frozen.\n",
      "DEGENHART: Senator Kerry, suppose you are speaking with a voter who believed abortion is murder and the voter asked for reassurance that his or her tax dollars would not go to support abortion, what would you say to that person?\n",
      "Now, I believe that you can take that position and not be pro- abortion, but you have to afford people their constitutional rights. And that means being smart about allowing people to be fully educated, to know what their options are in life, and making certain that you don’t deny a poor person the right to be able to have whatever the constitution affords them if they can’t afford it otherwise.\n",
      "My answer is, we’re not going to spend taxpayers’ money on abortion.\n",
      "This is an issue that divides America, but certainly reasonable people can agree on how to reduce abortions in America.\n",
      "I signed the partial-birth — the ban on partial-birth abortion. It’s a brutal practice. It’s one way to help reduce abortions. My opponent voted against the ban.\n",
      "I also think we ought to continue to have good adoption law as an alternative to abortion.\n",
      "I’m against the partial-birth abortion, but you’ve got to have an exception for the life of the mother and the health of the mother under the strictest test of bodily injury to the mother.\n",
      "BUSH: Well, it’s pretty simple when they say: Are you for a ban on partial birth abortion? Yes or no?\n",
      "<class 'str'>\n"
     ]
    }
   ],
   "source": [
    "#Scraped Data for Presidential Election 2004 (Bush and Kerry)\n",
    "\n",
    "#October 8, 2004\n",
    "\n",
    "URL = \"https://www.debates.org/voter-education/debate-transcripts/october-8-2004-debate-transcript/\" \n",
    "page = requests.get(URL)\n",
    "\n",
    "soup = BeautifulSoup(page.content, \"html.parser\")\n",
    "paragraphs_with_abortion = [p.get_text() for p in soup.find_all('p') if 'abortion' in p.get_text().lower()]\n",
    "\n",
    "for paragraph in paragraphs_with_abortion:\n",
    "    pres_debate_2004_2 = paragraph\n",
    "    print(pres_debate_2004_2)\n",
    "\n",
    "print(type(pres_debate_2004_2)) #class is a string"
   ]
  },
  {
   "cell_type": "code",
   "execution_count": 25,
   "metadata": {},
   "outputs": [
    {
     "name": "stdout",
     "output_type": "stream",
     "text": [
      "MODERATOR: New question, new subject. Governor Bush. If elected president, would you try to overturn the FDA’s approval last week of the abortion pill RU-486?\n",
      "BUSH: I don’t think a president can do that. I was disappointed in the ruling because I think abortions ought to be more rare in America, and I’m worried that that pill will create more abortions and cause more people to have abortions. This is a very important topic and it’s a very sensitive topic, because a lot of good people disagree on the issue. I think what the next president ought to do is to promote a culture of life in America. Life of the elderly and life of those living all across the country. Life of the unborn. As a matter of fact, I think a noble goal for this country is that every child, born or unborn, need to be protected by law and welcomed to life. I know we need to change a lot of minds before we get there in America. What I do believe is that we can find good, common ground on issues of parental consent or parental notification. I know we need to ban partial birth abortions. This is a place where my opponent and I have strong disagreement. I believe banning partial birth abortions would be a positive step to reducing the number of abortions in America. This is an issue that will require a new attitude. We’ve been battling over abortion for a long period of time. Surely this nation can come together to promote the value of life. Surely we can fight off these laws that will encourage doctors to — to allow doctors to take the lives of our seniors. Surely we can work together to create a cultural life so some of these youngsters who feel like they can take a neighbor’s life with a gun will understand that that’s not the way America is meant to be. Surely we can find common ground to reduce the number of abortions in America. As to the drug itself, I mentioned I was disappointed. I hope the FDA took its time to make sure that American women will be safe who use this drug.\n",
      "GORE: Well, Jim, the FDA took 12 years, and I do support that decision. They determined it was medically safe for the women who use that drug. This is indeed a very important issue. First of all on the issue of partial birth or so-called late-term abortion, I would sign a law banning that procedure, provided that doctors have the ability to save a woman’s life or to act if her health is severely at risk. That’s not the main issue. The main issue is whether or not the Roe v. Wade decision is going to be overturned. I support a woman’s right to choose. My opponent does not. It is important because the next president is going to appoint three and maybe even four justices of the Supreme Court. And Governor Bush has declared to the anti-choice groups that he will appoint justices in the mold of Scalia and Clarence Thomas, who are known for being the most vigorous opponents of a woman’s right to choose. Here is the difference. He trusts the government to order a woman to do what it thinks she ought to do. I trust women to make the decisions that affect their lives, their destinies and their bodies. And I think a woman’s right to choose ought to be protected and defended.\n",
      "<class 'str'>\n"
     ]
    }
   ],
   "source": [
    "#Scraped Data for Presidential Election 2000 (Gore and Bush)\n",
    "\n",
    "#October 8, 2004\n",
    "\n",
    "URL = \"https://www.debates.org/voter-education/debate-transcripts/october-3-2000-transcript/\" \n",
    "page = requests.get(URL)\n",
    "\n",
    "soup = BeautifulSoup(page.content, \"html.parser\")\n",
    "paragraphs_with_abortion = [p.get_text() for p in soup.find_all('p') if 'abortion' in p.get_text().lower()]\n",
    "\n",
    "for paragraph in paragraphs_with_abortion:\n",
    "    pres_debate_2000_1 = paragraph\n",
    "    print(pres_debate_2000_1)\n",
    "\n",
    "print(type(pres_debate_2000_1)) #class is a string"
   ]
  },
  {
   "cell_type": "markdown",
   "metadata": {},
   "source": [
    "## 3. Methods\n",
    "\n",
    "### DEADLINE: TUE 12/5 (Midnight)"
   ]
  },
  {
   "cell_type": "code",
   "execution_count": null,
   "metadata": {},
   "outputs": [],
   "source": []
  },
  {
   "cell_type": "markdown",
   "metadata": {},
   "source": [
    "- Use Fightingwords to examine partisan difference in news outlets (FIGHTING WORDS LECTURE 10, use given library, used in PSET 3) - look at words \n",
    "- Use VADER on the presidential debates + congressional speech phrasings (VADER WAS FOUND IN PSET 1)\n",
    "- Use (k-means) Clustering of phrasings (apply to all) (FOUND IN PSET 2, LECTURE 6, 7)\n",
    "- Use BERT Classification (PSET 5, Lecture 15, 16, article discussed)\n",
    "- When dealing with CENTER, we would use VADER to examine the connotation of words used within the outlet and we also compare that to the fightingwords identified for left and right and examine the distribution of those words within that outlet\n",
    "- "
   ]
  },
  {
   "cell_type": "markdown",
   "metadata": {},
   "source": []
  },
  {
   "cell_type": "markdown",
   "metadata": {},
   "source": [
    "## 4. Results\n",
    "\n",
    "### DEADLINE: THURS 12/7 (Midnight)"
   ]
  },
  {
   "cell_type": "code",
   "execution_count": null,
   "metadata": {},
   "outputs": [],
   "source": []
  },
  {
   "cell_type": "markdown",
   "metadata": {},
   "source": [
    "## 5. Discussion and conclusions\n",
    "\n",
    "### DEADLINE: 12/8"
   ]
  },
  {
   "cell_type": "code",
   "execution_count": null,
   "metadata": {},
   "outputs": [],
   "source": []
  }
 ],
 "metadata": {
  "kernelspec": {
   "display_name": "info2950",
   "language": "python",
   "name": "python3"
  },
  "language_info": {
   "codemirror_mode": {
    "name": "ipython",
    "version": 3
   },
   "file_extension": ".py",
   "mimetype": "text/x-python",
   "name": "python",
   "nbconvert_exporter": "python",
   "pygments_lexer": "ipython3",
   "version": "3.10.12"
  },
  "vscode": {
   "interpreter": {
    "hash": "be68b6d75416cba97d4f6ce2ab1e4721759e09cc82850453086f6f7bb9d313b8"
   }
  }
 },
 "nbformat": 4,
 "nbformat_minor": 4
}
